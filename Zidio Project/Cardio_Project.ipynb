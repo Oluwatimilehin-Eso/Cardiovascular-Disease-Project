{
 "cells": [
  {
   "cell_type": "markdown",
   "metadata": {},
   "source": [
    "# `CARDIOVASCULAR DISEASE PROJECT`"
   ]
  },
  {
   "cell_type": "markdown",
   "metadata": {},
   "source": [
    "#### This aim of this project is to develop a Machine Learning model to predict the likelihood of Cardiovasular diseases based on relevant health parameters."
   ]
  },
  {
   "cell_type": "markdown",
   "metadata": {},
   "source": [
    "## Data Description\n",
    "\n",
    "|Attribute| Description| Data Type| Domain|\n",
    "|----|----|----|----|\n",
    "|Age| Patient age in year| Numerical| 29 to 77|\n",
    "|Sex| Gender| Binary| 0 = female, 1 = male|\n",
    "|Chest_pain| Chest pain type| Nominal| 1 = typical angina, 2 = atypical angina, 3 = nonanginal pain, 4 = asymptomatic|\n",
    "|Rest_bps| Resting blood pressure| Numerical| 94 to 200| \n",
    "|Chol| Serum cholesterol| Numerical| 126 to 564|\n",
    "|Blood_sugar| Fasting blood sugar >120 mg/đL| Binary| 0 = false, 1 = True|\n",
    "|Rest_ecg| Resting electrocardiographic result| Nominal| 0 = normal, 1 = having ST-T wave abnormality, 2 = left ventricular hypertrophy|\n",
    "|Max_heart_rate| Maximum heart rate| Numerical| 71 to 200|\n",
    "|Ex_ang| Exercise induced angina| Binary| 0 = no, 1= yes|\n",
    "|Old_peak| Old peak| Numerical| Continuous (0 to 6.2)|\n",
    "|Slope| Slope of peak exercise ST segment| Nominal| 1 = upsloping, 2 = flat, 3 = downsloping|\n",
    "|Vessel| Number of major vessels| Nominal| 0 to 3|\n",
    "|Thal| Defect type| Nominal| 3 = normal, 6 = fixed defect, 7 = reversible defect|\n",
    "|Target| Heart disease| Ordinal| 0 = very unlikely, 1 = unlikely, 2 = possible, 3 = likely, 4 = very likely|\n",
    "\n",
    "\n"
   ]
  },
  {
   "cell_type": "code",
   "execution_count": null,
   "metadata": {},
   "outputs": [],
   "source": [
    "nom = df[['Gender', 'Chest_pain', 'Blood_sugar', 'Rest_ecg', 'Ex_ang', 'Slope', 'Vessel', 'Thal']]\n",
    "num = df[['Age', 'Rest_bps', 'Chol', 'Max_heart_rate', 'Old_peak']]"
   ]
  },
  {
   "cell_type": "markdown",
   "metadata": {},
   "source": [
    "## `Step 0:` Import the necessary libraries"
   ]
  },
  {
   "cell_type": "code",
   "execution_count": 2,
   "metadata": {},
   "outputs": [],
   "source": [
    "import numpy as np\n",
    "import pandas as pd\n",
    "import seaborn as sns\n",
    "import sklearn as skl\n",
    "from matplotlib import pyplot as plt\n",
    "from sklearn import preprocessing\n",
    "from sklearn.svm import SVC\n",
    "from sklearn.preprocessing import StandardScaler\n",
    "from sklearn.model_selection import train_test_split\n",
    "from sklearn.linear_model import LinearRegression, LogisticRegression\n",
    "from sklearn.metrics import accuracy_score, classification_report\n",
    "from sklearn.tree import DecisionTreeClassifier\n",
    "from sklearn.ensemble import RandomForestClassifier\n",
    "from scipy.stats import pointbiserialr, chi2_contingency\n"
   ]
  },
  {
   "cell_type": "markdown",
   "metadata": {},
   "source": [
    "## `Step 1:` Import the dataset to DataFrame"
   ]
  },
  {
   "cell_type": "code",
   "execution_count": 3,
   "metadata": {},
   "outputs": [
    {
     "data": {
      "text/html": [
       "<div>\n",
       "<style scoped>\n",
       "    .dataframe tbody tr th:only-of-type {\n",
       "        vertical-align: middle;\n",
       "    }\n",
       "\n",
       "    .dataframe tbody tr th {\n",
       "        vertical-align: top;\n",
       "    }\n",
       "\n",
       "    .dataframe thead th {\n",
       "        text-align: right;\n",
       "    }\n",
       "</style>\n",
       "<table border=\"1\" class=\"dataframe\">\n",
       "  <thead>\n",
       "    <tr style=\"text-align: right;\">\n",
       "      <th></th>\n",
       "      <th>age</th>\n",
       "      <th>sex</th>\n",
       "      <th>cp</th>\n",
       "      <th>trestbps</th>\n",
       "      <th>chol</th>\n",
       "      <th>fbs</th>\n",
       "      <th>restecg</th>\n",
       "      <th>thalach</th>\n",
       "      <th>exang</th>\n",
       "      <th>oldpeak</th>\n",
       "      <th>slope</th>\n",
       "      <th>ca</th>\n",
       "      <th>thal</th>\n",
       "      <th>target</th>\n",
       "    </tr>\n",
       "  </thead>\n",
       "  <tbody>\n",
       "    <tr>\n",
       "      <th>0</th>\n",
       "      <td>63.0</td>\n",
       "      <td>1.0</td>\n",
       "      <td>1.0</td>\n",
       "      <td>145</td>\n",
       "      <td>233.0</td>\n",
       "      <td>1.0</td>\n",
       "      <td>2.0</td>\n",
       "      <td>150</td>\n",
       "      <td>0.0</td>\n",
       "      <td>2.3</td>\n",
       "      <td>3.0</td>\n",
       "      <td>0</td>\n",
       "      <td>6.0</td>\n",
       "      <td>0</td>\n",
       "    </tr>\n",
       "    <tr>\n",
       "      <th>1</th>\n",
       "      <td>67.0</td>\n",
       "      <td>1.0</td>\n",
       "      <td>4.0</td>\n",
       "      <td>160</td>\n",
       "      <td>286.0</td>\n",
       "      <td>0.0</td>\n",
       "      <td>2.0</td>\n",
       "      <td>108</td>\n",
       "      <td>1.0</td>\n",
       "      <td>NaN</td>\n",
       "      <td>2.0</td>\n",
       "      <td>3</td>\n",
       "      <td>3.0</td>\n",
       "      <td>2</td>\n",
       "    </tr>\n",
       "    <tr>\n",
       "      <th>2</th>\n",
       "      <td>67.0</td>\n",
       "      <td>1.0</td>\n",
       "      <td>4.0</td>\n",
       "      <td>120</td>\n",
       "      <td>229.0</td>\n",
       "      <td>0.0</td>\n",
       "      <td>2.0</td>\n",
       "      <td>129</td>\n",
       "      <td>1.0</td>\n",
       "      <td>2.6</td>\n",
       "      <td>2.0</td>\n",
       "      <td>2</td>\n",
       "      <td>7.0</td>\n",
       "      <td>1</td>\n",
       "    </tr>\n",
       "    <tr>\n",
       "      <th>3</th>\n",
       "      <td>37.0</td>\n",
       "      <td>1.0</td>\n",
       "      <td>3.0</td>\n",
       "      <td>130</td>\n",
       "      <td>250.0</td>\n",
       "      <td>0.0</td>\n",
       "      <td>NaN</td>\n",
       "      <td>187</td>\n",
       "      <td>0.0</td>\n",
       "      <td>3.5</td>\n",
       "      <td>3.0</td>\n",
       "      <td>0</td>\n",
       "      <td>3.0</td>\n",
       "      <td>0</td>\n",
       "    </tr>\n",
       "    <tr>\n",
       "      <th>4</th>\n",
       "      <td>41.0</td>\n",
       "      <td>0.0</td>\n",
       "      <td>2.0</td>\n",
       "      <td>130</td>\n",
       "      <td>204.0</td>\n",
       "      <td>0.0</td>\n",
       "      <td>2.0</td>\n",
       "      <td>172</td>\n",
       "      <td>0.0</td>\n",
       "      <td>1.4</td>\n",
       "      <td>1.0</td>\n",
       "      <td>0</td>\n",
       "      <td>3.0</td>\n",
       "      <td>0</td>\n",
       "    </tr>\n",
       "  </tbody>\n",
       "</table>\n",
       "</div>"
      ],
      "text/plain": [
       "    age  sex   cp  trestbps   chol  fbs  restecg  thalach  exang  oldpeak  \\\n",
       "0  63.0  1.0  1.0       145  233.0  1.0      2.0      150    0.0      2.3   \n",
       "1  67.0  1.0  4.0       160  286.0  0.0      2.0      108    1.0      NaN   \n",
       "2  67.0  1.0  4.0       120  229.0  0.0      2.0      129    1.0      2.6   \n",
       "3  37.0  1.0  3.0       130  250.0  0.0      NaN      187    0.0      3.5   \n",
       "4  41.0  0.0  2.0       130  204.0  0.0      2.0      172    0.0      1.4   \n",
       "\n",
       "   slope  ca  thal  target  \n",
       "0    3.0   0   6.0       0  \n",
       "1    2.0   3   3.0       2  \n",
       "2    2.0   2   7.0       1  \n",
       "3    3.0   0   3.0       0  \n",
       "4    1.0   0   3.0       0  "
      ]
     },
     "execution_count": 3,
     "metadata": {},
     "output_type": "execute_result"
    }
   ],
   "source": [
    "# Import csv file to dataframe\n",
    "\n",
    "df = pd.read_csv('Cardio data.csv')\n",
    "\n",
    "# Show a sample of the data\n",
    "\n",
    "df.head()\n"
   ]
  },
  {
   "cell_type": "markdown",
   "metadata": {},
   "source": [
    "## `Step 2:` Data Understanding"
   ]
  },
  {
   "cell_type": "code",
   "execution_count": 4,
   "metadata": {},
   "outputs": [
    {
     "data": {
      "text/plain": [
       "(1592, 14)"
      ]
     },
     "execution_count": 4,
     "metadata": {},
     "output_type": "execute_result"
    }
   ],
   "source": [
    "# Check the total rows and columns\n",
    "df.shape"
   ]
  },
  {
   "cell_type": "code",
   "execution_count": 5,
   "metadata": {},
   "outputs": [
    {
     "data": {
      "text/plain": [
       "age         float64\n",
       "sex         float64\n",
       "cp          float64\n",
       "trestbps      int64\n",
       "chol        float64\n",
       "fbs         float64\n",
       "restecg     float64\n",
       "thalach       int64\n",
       "exang       float64\n",
       "oldpeak     float64\n",
       "slope       float64\n",
       "ca            int64\n",
       "thal        float64\n",
       "target        int64\n",
       "dtype: object"
      ]
     },
     "execution_count": 5,
     "metadata": {},
     "output_type": "execute_result"
    }
   ],
   "source": [
    "# Check the data types\n",
    "df.dtypes"
   ]
  },
  {
   "cell_type": "code",
   "execution_count": 6,
   "metadata": {},
   "outputs": [
    {
     "data": {
      "text/plain": [
       "Index(['age', 'sex', 'cp', 'trestbps', 'chol', 'fbs', 'restecg', 'thalach',\n",
       "       'exang', 'oldpeak', 'slope', 'ca', 'thal', 'target'],\n",
       "      dtype='object')"
      ]
     },
     "execution_count": 6,
     "metadata": {},
     "output_type": "execute_result"
    }
   ],
   "source": [
    "# Check column names\n",
    "df.columns"
   ]
  },
  {
   "cell_type": "code",
   "execution_count": 7,
   "metadata": {},
   "outputs": [
    {
     "data": {
      "text/html": [
       "<div>\n",
       "<style scoped>\n",
       "    .dataframe tbody tr th:only-of-type {\n",
       "        vertical-align: middle;\n",
       "    }\n",
       "\n",
       "    .dataframe tbody tr th {\n",
       "        vertical-align: top;\n",
       "    }\n",
       "\n",
       "    .dataframe thead th {\n",
       "        text-align: right;\n",
       "    }\n",
       "</style>\n",
       "<table border=\"1\" class=\"dataframe\">\n",
       "  <thead>\n",
       "    <tr style=\"text-align: right;\">\n",
       "      <th></th>\n",
       "      <th>Age</th>\n",
       "      <th>Sex</th>\n",
       "      <th>Chest_pain</th>\n",
       "      <th>Rest_bps</th>\n",
       "      <th>Chol</th>\n",
       "      <th>Blood_sugar</th>\n",
       "      <th>Rest_ecg</th>\n",
       "      <th>Max_heart_rate</th>\n",
       "      <th>Ex_ang</th>\n",
       "      <th>Old_peak</th>\n",
       "      <th>Slope</th>\n",
       "      <th>Vessel</th>\n",
       "      <th>Thal</th>\n",
       "      <th>Target</th>\n",
       "    </tr>\n",
       "  </thead>\n",
       "  <tbody>\n",
       "    <tr>\n",
       "      <th>0</th>\n",
       "      <td>63.0</td>\n",
       "      <td>1.0</td>\n",
       "      <td>1.0</td>\n",
       "      <td>145</td>\n",
       "      <td>233.0</td>\n",
       "      <td>1.0</td>\n",
       "      <td>2.0</td>\n",
       "      <td>150</td>\n",
       "      <td>0.0</td>\n",
       "      <td>2.3</td>\n",
       "      <td>3.0</td>\n",
       "      <td>0</td>\n",
       "      <td>6.0</td>\n",
       "      <td>0</td>\n",
       "    </tr>\n",
       "    <tr>\n",
       "      <th>1</th>\n",
       "      <td>67.0</td>\n",
       "      <td>1.0</td>\n",
       "      <td>4.0</td>\n",
       "      <td>160</td>\n",
       "      <td>286.0</td>\n",
       "      <td>0.0</td>\n",
       "      <td>2.0</td>\n",
       "      <td>108</td>\n",
       "      <td>1.0</td>\n",
       "      <td>NaN</td>\n",
       "      <td>2.0</td>\n",
       "      <td>3</td>\n",
       "      <td>3.0</td>\n",
       "      <td>2</td>\n",
       "    </tr>\n",
       "    <tr>\n",
       "      <th>2</th>\n",
       "      <td>67.0</td>\n",
       "      <td>1.0</td>\n",
       "      <td>4.0</td>\n",
       "      <td>120</td>\n",
       "      <td>229.0</td>\n",
       "      <td>0.0</td>\n",
       "      <td>2.0</td>\n",
       "      <td>129</td>\n",
       "      <td>1.0</td>\n",
       "      <td>2.6</td>\n",
       "      <td>2.0</td>\n",
       "      <td>2</td>\n",
       "      <td>7.0</td>\n",
       "      <td>1</td>\n",
       "    </tr>\n",
       "    <tr>\n",
       "      <th>3</th>\n",
       "      <td>37.0</td>\n",
       "      <td>1.0</td>\n",
       "      <td>3.0</td>\n",
       "      <td>130</td>\n",
       "      <td>250.0</td>\n",
       "      <td>0.0</td>\n",
       "      <td>NaN</td>\n",
       "      <td>187</td>\n",
       "      <td>0.0</td>\n",
       "      <td>3.5</td>\n",
       "      <td>3.0</td>\n",
       "      <td>0</td>\n",
       "      <td>3.0</td>\n",
       "      <td>0</td>\n",
       "    </tr>\n",
       "    <tr>\n",
       "      <th>4</th>\n",
       "      <td>41.0</td>\n",
       "      <td>0.0</td>\n",
       "      <td>2.0</td>\n",
       "      <td>130</td>\n",
       "      <td>204.0</td>\n",
       "      <td>0.0</td>\n",
       "      <td>2.0</td>\n",
       "      <td>172</td>\n",
       "      <td>0.0</td>\n",
       "      <td>1.4</td>\n",
       "      <td>1.0</td>\n",
       "      <td>0</td>\n",
       "      <td>3.0</td>\n",
       "      <td>0</td>\n",
       "    </tr>\n",
       "    <tr>\n",
       "      <th>5</th>\n",
       "      <td>56.0</td>\n",
       "      <td>1.0</td>\n",
       "      <td>2.0</td>\n",
       "      <td>120</td>\n",
       "      <td>236.0</td>\n",
       "      <td>0.0</td>\n",
       "      <td>0.0</td>\n",
       "      <td>178</td>\n",
       "      <td>0.0</td>\n",
       "      <td>0.8</td>\n",
       "      <td>1.0</td>\n",
       "      <td>0</td>\n",
       "      <td>3.0</td>\n",
       "      <td>0</td>\n",
       "    </tr>\n",
       "    <tr>\n",
       "      <th>6</th>\n",
       "      <td>62.0</td>\n",
       "      <td>0.0</td>\n",
       "      <td>4.0</td>\n",
       "      <td>140</td>\n",
       "      <td>268.0</td>\n",
       "      <td>0.0</td>\n",
       "      <td>2.0</td>\n",
       "      <td>160</td>\n",
       "      <td>0.0</td>\n",
       "      <td>3.6</td>\n",
       "      <td>3.0</td>\n",
       "      <td>2</td>\n",
       "      <td>3.0</td>\n",
       "      <td>3</td>\n",
       "    </tr>\n",
       "    <tr>\n",
       "      <th>7</th>\n",
       "      <td>57.0</td>\n",
       "      <td>0.0</td>\n",
       "      <td>4.0</td>\n",
       "      <td>120</td>\n",
       "      <td>354.0</td>\n",
       "      <td>0.0</td>\n",
       "      <td>0.0</td>\n",
       "      <td>163</td>\n",
       "      <td>1.0</td>\n",
       "      <td>0.6</td>\n",
       "      <td>1.0</td>\n",
       "      <td>0</td>\n",
       "      <td>3.0</td>\n",
       "      <td>0</td>\n",
       "    </tr>\n",
       "    <tr>\n",
       "      <th>8</th>\n",
       "      <td>63.0</td>\n",
       "      <td>1.0</td>\n",
       "      <td>4.0</td>\n",
       "      <td>130</td>\n",
       "      <td>NaN</td>\n",
       "      <td>0.0</td>\n",
       "      <td>2.0</td>\n",
       "      <td>147</td>\n",
       "      <td>0.0</td>\n",
       "      <td>1.4</td>\n",
       "      <td>2.0</td>\n",
       "      <td>1</td>\n",
       "      <td>7.0</td>\n",
       "      <td>2</td>\n",
       "    </tr>\n",
       "    <tr>\n",
       "      <th>9</th>\n",
       "      <td>53.0</td>\n",
       "      <td>NaN</td>\n",
       "      <td>4.0</td>\n",
       "      <td>140</td>\n",
       "      <td>203.0</td>\n",
       "      <td>1.0</td>\n",
       "      <td>2.0</td>\n",
       "      <td>155</td>\n",
       "      <td>1.0</td>\n",
       "      <td>3.1</td>\n",
       "      <td>3.0</td>\n",
       "      <td>0</td>\n",
       "      <td>7.0</td>\n",
       "      <td>1</td>\n",
       "    </tr>\n",
       "  </tbody>\n",
       "</table>\n",
       "</div>"
      ],
      "text/plain": [
       "    Age  Sex  Chest_pain  Rest_bps   Chol  Blood_sugar  Rest_ecg  \\\n",
       "0  63.0  1.0         1.0       145  233.0          1.0       2.0   \n",
       "1  67.0  1.0         4.0       160  286.0          0.0       2.0   \n",
       "2  67.0  1.0         4.0       120  229.0          0.0       2.0   \n",
       "3  37.0  1.0         3.0       130  250.0          0.0       NaN   \n",
       "4  41.0  0.0         2.0       130  204.0          0.0       2.0   \n",
       "5  56.0  1.0         2.0       120  236.0          0.0       0.0   \n",
       "6  62.0  0.0         4.0       140  268.0          0.0       2.0   \n",
       "7  57.0  0.0         4.0       120  354.0          0.0       0.0   \n",
       "8  63.0  1.0         4.0       130    NaN          0.0       2.0   \n",
       "9  53.0  NaN         4.0       140  203.0          1.0       2.0   \n",
       "\n",
       "   Max_heart_rate  Ex_ang  Old_peak  Slope  Vessel  Thal  Target  \n",
       "0             150     0.0       2.3    3.0       0   6.0       0  \n",
       "1             108     1.0       NaN    2.0       3   3.0       2  \n",
       "2             129     1.0       2.6    2.0       2   7.0       1  \n",
       "3             187     0.0       3.5    3.0       0   3.0       0  \n",
       "4             172     0.0       1.4    1.0       0   3.0       0  \n",
       "5             178     0.0       0.8    1.0       0   3.0       0  \n",
       "6             160     0.0       3.6    3.0       2   3.0       3  \n",
       "7             163     1.0       0.6    1.0       0   3.0       0  \n",
       "8             147     0.0       1.4    2.0       1   7.0       2  \n",
       "9             155     1.0       3.1    3.0       0   7.0       1  "
      ]
     },
     "execution_count": 7,
     "metadata": {},
     "output_type": "execute_result"
    }
   ],
   "source": [
    "# Adjust column names\n",
    "df=df.rename(columns={'age':'Age', 'sex':'Sex', 'cp':'Chest_pain', 'trestbps':'Rest_bps', 'chol':'Chol', 'fbs':'Blood_sugar', 'restecg':'Rest_ecg', 'thalach':'Max_heart_rate',\n",
    "       'exang':'Ex_ang', 'oldpeak':'Old_peak', 'slope':'Slope', 'ca':'Vessel', 'thal':'Thal', 'target':'Target'})\n",
    "\n",
    "# Check to see changes\n",
    "\n",
    "df.head(10)"
   ]
  },
  {
   "cell_type": "code",
   "execution_count": 8,
   "metadata": {},
   "outputs": [
    {
     "data": {
      "text/plain": [
       "Age                79\n",
       "Sex                31\n",
       "Chest_pain        159\n",
       "Rest_bps            0\n",
       "Chol               63\n",
       "Blood_sugar        79\n",
       "Rest_ecg            7\n",
       "Max_heart_rate      0\n",
       "Ex_ang             47\n",
       "Old_peak           31\n",
       "Slope              54\n",
       "Vessel              0\n",
       "Thal                7\n",
       "Target              0\n",
       "dtype: int64"
      ]
     },
     "execution_count": 8,
     "metadata": {},
     "output_type": "execute_result"
    }
   ],
   "source": [
    "# Check for total missing values per feature\n",
    "\n",
    "df.isna().sum()"
   ]
  },
  {
   "cell_type": "code",
   "execution_count": 9,
   "metadata": {},
   "outputs": [
    {
     "data": {
      "text/plain": [
       "(       Age  Sex  Chest_pain  Rest_bps   Chol  Blood_sugar  Rest_ecg  \\\n",
       " 0     63.0  1.0         1.0       145  233.0          1.0       2.0   \n",
       " 1     67.0  1.0         4.0       160  286.0          0.0       2.0   \n",
       " 2     67.0  1.0         4.0       120  229.0          0.0       2.0   \n",
       " 3     37.0  1.0         3.0       130  250.0          0.0       0.0   \n",
       " 4     41.0  0.0         2.0       130  204.0          0.0       2.0   \n",
       " ...    ...  ...         ...       ...    ...          ...       ...   \n",
       " 1587  52.0  1.0         3.0       172  199.0          1.0       0.0   \n",
       " 1588  44.0  1.0         2.0       120  263.0          0.0       0.0   \n",
       " 1589  56.0  0.0         0.0       140  294.0          0.0       2.0   \n",
       " 1590  57.0  1.0         4.0       140  192.0          0.0       0.0   \n",
       " 1591  67.0  1.0         4.0       160  286.0          0.0       2.0   \n",
       " \n",
       "       Max_heart_rate  Ex_ang  Old_peak  Slope  Vessel  Thal  Target  \n",
       " 0                150     0.0  2.300000    3.0       0   6.0       0  \n",
       " 1                108     1.0  1.066496    2.0       3   3.0       2  \n",
       " 2                129     1.0  2.600000    2.0       2   7.0       1  \n",
       " 3                187     0.0  3.500000    3.0       0   3.0       0  \n",
       " 4                172     0.0  1.400000    1.0       0   3.0       0  \n",
       " ...              ...     ...       ...    ...     ...   ...     ...  \n",
       " 1587             162     0.0  0.500000    1.0       0   7.0       1  \n",
       " 1588             173     0.0  0.000000    1.0       0   7.0       1  \n",
       " 1589             153     0.0  1.300000    2.0       0   3.0       1  \n",
       " 1590             148     0.0  0.400000    2.0       0   6.0       1  \n",
       " 1591             108     1.0  1.500000    2.0       3   3.0       2  \n",
       " \n",
       " [1592 rows x 14 columns],\n",
       " Age               0\n",
       " Sex               0\n",
       " Chest_pain        0\n",
       " Rest_bps          0\n",
       " Chol              0\n",
       " Blood_sugar       0\n",
       " Rest_ecg          0\n",
       " Max_heart_rate    0\n",
       " Ex_ang            0\n",
       " Old_peak          0\n",
       " Slope             0\n",
       " Vessel            0\n",
       " Thal              0\n",
       " Target            0\n",
       " dtype: int64)"
      ]
     },
     "execution_count": 9,
     "metadata": {},
     "output_type": "execute_result"
    }
   ],
   "source": [
    "# Handle missing data based on the feature\n",
    "\n",
    "def handle_missing_data(df):\n",
    "    # Fill missing numerical data with the mean of the column\n",
    "    for column in ['Age', 'Rest_bps', 'Chol', 'Max_heart_rate', 'Old_peak']:\n",
    "        df[column].fillna(df[column].mean(), inplace=True)\n",
    "    \n",
    "    # Fill missing binary and nominal data with the mode of the column\n",
    "    for column in ['Sex', 'Chest_pain', 'Blood_sugar', 'Rest_ecg', 'Ex_ang', 'Slope', 'Thal']:\n",
    "        df[column].fillna(df[column].mode()[0], inplace=True)\n",
    "    \n",
    "    # Check if there are any remaining missing values\n",
    "    missing_data = df.isnull().sum()\n",
    "    return df, missing_data\n",
    "\n",
    "handle_missing_data(df)"
   ]
  },
  {
   "cell_type": "code",
   "execution_count": 10,
   "metadata": {},
   "outputs": [
    {
     "data": {
      "text/plain": [
       "Age               0\n",
       "Sex               0\n",
       "Chest_pain        0\n",
       "Rest_bps          0\n",
       "Chol              0\n",
       "Blood_sugar       0\n",
       "Rest_ecg          0\n",
       "Max_heart_rate    0\n",
       "Ex_ang            0\n",
       "Old_peak          0\n",
       "Slope             0\n",
       "Vessel            0\n",
       "Thal              0\n",
       "Target            0\n",
       "dtype: int64"
      ]
     },
     "execution_count": 10,
     "metadata": {},
     "output_type": "execute_result"
    }
   ],
   "source": [
    "# Confirm results\n",
    "\n",
    "df.isna().sum()"
   ]
  },
  {
   "cell_type": "markdown",
   "metadata": {},
   "source": [
    "The missing values have been sorted using mean for numerical values and mode for nominal ones"
   ]
  },
  {
   "cell_type": "code",
   "execution_count": 11,
   "metadata": {},
   "outputs": [
    {
     "data": {
      "text/plain": [
       "559"
      ]
     },
     "execution_count": 11,
     "metadata": {},
     "output_type": "execute_result"
    }
   ],
   "source": [
    "df.duplicated().sum()"
   ]
  },
  {
   "cell_type": "code",
   "execution_count": 12,
   "metadata": {},
   "outputs": [],
   "source": [
    "# Drop duplicates excpet first occurence\n",
    "df = df.drop_duplicates()"
   ]
  },
  {
   "cell_type": "code",
   "execution_count": 13,
   "metadata": {},
   "outputs": [
    {
     "data": {
      "text/plain": [
       "0"
      ]
     },
     "execution_count": 13,
     "metadata": {},
     "output_type": "execute_result"
    }
   ],
   "source": [
    "# Checking total number of duplicates\n",
    "df.duplicated().sum()"
   ]
  },
  {
   "cell_type": "code",
   "execution_count": 14,
   "metadata": {},
   "outputs": [
    {
     "data": {
      "text/html": [
       "<div>\n",
       "<style scoped>\n",
       "    .dataframe tbody tr th:only-of-type {\n",
       "        vertical-align: middle;\n",
       "    }\n",
       "\n",
       "    .dataframe tbody tr th {\n",
       "        vertical-align: top;\n",
       "    }\n",
       "\n",
       "    .dataframe thead th {\n",
       "        text-align: right;\n",
       "    }\n",
       "</style>\n",
       "<table border=\"1\" class=\"dataframe\">\n",
       "  <thead>\n",
       "    <tr style=\"text-align: right;\">\n",
       "      <th></th>\n",
       "      <th>Age</th>\n",
       "      <th>Sex</th>\n",
       "      <th>Chest_pain</th>\n",
       "      <th>Rest_bps</th>\n",
       "      <th>Chol</th>\n",
       "      <th>Blood_sugar</th>\n",
       "      <th>Rest_ecg</th>\n",
       "      <th>Max_heart_rate</th>\n",
       "      <th>Ex_ang</th>\n",
       "      <th>Old_peak</th>\n",
       "      <th>Slope</th>\n",
       "      <th>Vessel</th>\n",
       "      <th>Thal</th>\n",
       "      <th>Target</th>\n",
       "    </tr>\n",
       "  </thead>\n",
       "  <tbody>\n",
       "    <tr>\n",
       "      <th>0</th>\n",
       "      <td>63.0</td>\n",
       "      <td>1.0</td>\n",
       "      <td>1.0</td>\n",
       "      <td>145</td>\n",
       "      <td>233.0</td>\n",
       "      <td>1.0</td>\n",
       "      <td>2.0</td>\n",
       "      <td>150</td>\n",
       "      <td>0.0</td>\n",
       "      <td>2.300000</td>\n",
       "      <td>3.0</td>\n",
       "      <td>0</td>\n",
       "      <td>6.0</td>\n",
       "      <td>0</td>\n",
       "    </tr>\n",
       "    <tr>\n",
       "      <th>1</th>\n",
       "      <td>67.0</td>\n",
       "      <td>1.0</td>\n",
       "      <td>4.0</td>\n",
       "      <td>160</td>\n",
       "      <td>286.0</td>\n",
       "      <td>0.0</td>\n",
       "      <td>2.0</td>\n",
       "      <td>108</td>\n",
       "      <td>1.0</td>\n",
       "      <td>1.066496</td>\n",
       "      <td>2.0</td>\n",
       "      <td>3</td>\n",
       "      <td>3.0</td>\n",
       "      <td>2</td>\n",
       "    </tr>\n",
       "    <tr>\n",
       "      <th>2</th>\n",
       "      <td>67.0</td>\n",
       "      <td>1.0</td>\n",
       "      <td>4.0</td>\n",
       "      <td>120</td>\n",
       "      <td>229.0</td>\n",
       "      <td>0.0</td>\n",
       "      <td>2.0</td>\n",
       "      <td>129</td>\n",
       "      <td>1.0</td>\n",
       "      <td>2.600000</td>\n",
       "      <td>2.0</td>\n",
       "      <td>2</td>\n",
       "      <td>7.0</td>\n",
       "      <td>1</td>\n",
       "    </tr>\n",
       "    <tr>\n",
       "      <th>3</th>\n",
       "      <td>37.0</td>\n",
       "      <td>1.0</td>\n",
       "      <td>3.0</td>\n",
       "      <td>130</td>\n",
       "      <td>250.0</td>\n",
       "      <td>0.0</td>\n",
       "      <td>0.0</td>\n",
       "      <td>187</td>\n",
       "      <td>0.0</td>\n",
       "      <td>3.500000</td>\n",
       "      <td>3.0</td>\n",
       "      <td>0</td>\n",
       "      <td>3.0</td>\n",
       "      <td>0</td>\n",
       "    </tr>\n",
       "    <tr>\n",
       "      <th>4</th>\n",
       "      <td>41.0</td>\n",
       "      <td>0.0</td>\n",
       "      <td>2.0</td>\n",
       "      <td>130</td>\n",
       "      <td>204.0</td>\n",
       "      <td>0.0</td>\n",
       "      <td>2.0</td>\n",
       "      <td>172</td>\n",
       "      <td>0.0</td>\n",
       "      <td>1.400000</td>\n",
       "      <td>1.0</td>\n",
       "      <td>0</td>\n",
       "      <td>3.0</td>\n",
       "      <td>0</td>\n",
       "    </tr>\n",
       "    <tr>\n",
       "      <th>...</th>\n",
       "      <td>...</td>\n",
       "      <td>...</td>\n",
       "      <td>...</td>\n",
       "      <td>...</td>\n",
       "      <td>...</td>\n",
       "      <td>...</td>\n",
       "      <td>...</td>\n",
       "      <td>...</td>\n",
       "      <td>...</td>\n",
       "      <td>...</td>\n",
       "      <td>...</td>\n",
       "      <td>...</td>\n",
       "      <td>...</td>\n",
       "      <td>...</td>\n",
       "    </tr>\n",
       "    <tr>\n",
       "      <th>1028</th>\n",
       "      <td>52.0</td>\n",
       "      <td>1.0</td>\n",
       "      <td>3.0</td>\n",
       "      <td>172</td>\n",
       "      <td>199.0</td>\n",
       "      <td>1.0</td>\n",
       "      <td>0.0</td>\n",
       "      <td>162</td>\n",
       "      <td>0.0</td>\n",
       "      <td>0.500000</td>\n",
       "      <td>1.0</td>\n",
       "      <td>0</td>\n",
       "      <td>7.0</td>\n",
       "      <td>1</td>\n",
       "    </tr>\n",
       "    <tr>\n",
       "      <th>1029</th>\n",
       "      <td>44.0</td>\n",
       "      <td>1.0</td>\n",
       "      <td>2.0</td>\n",
       "      <td>120</td>\n",
       "      <td>263.0</td>\n",
       "      <td>0.0</td>\n",
       "      <td>0.0</td>\n",
       "      <td>173</td>\n",
       "      <td>0.0</td>\n",
       "      <td>0.000000</td>\n",
       "      <td>1.0</td>\n",
       "      <td>0</td>\n",
       "      <td>7.0</td>\n",
       "      <td>1</td>\n",
       "    </tr>\n",
       "    <tr>\n",
       "      <th>1030</th>\n",
       "      <td>56.0</td>\n",
       "      <td>0.0</td>\n",
       "      <td>0.0</td>\n",
       "      <td>140</td>\n",
       "      <td>294.0</td>\n",
       "      <td>0.0</td>\n",
       "      <td>2.0</td>\n",
       "      <td>153</td>\n",
       "      <td>0.0</td>\n",
       "      <td>1.300000</td>\n",
       "      <td>2.0</td>\n",
       "      <td>0</td>\n",
       "      <td>3.0</td>\n",
       "      <td>1</td>\n",
       "    </tr>\n",
       "    <tr>\n",
       "      <th>1031</th>\n",
       "      <td>57.0</td>\n",
       "      <td>1.0</td>\n",
       "      <td>4.0</td>\n",
       "      <td>140</td>\n",
       "      <td>192.0</td>\n",
       "      <td>0.0</td>\n",
       "      <td>0.0</td>\n",
       "      <td>148</td>\n",
       "      <td>0.0</td>\n",
       "      <td>0.400000</td>\n",
       "      <td>2.0</td>\n",
       "      <td>0</td>\n",
       "      <td>6.0</td>\n",
       "      <td>1</td>\n",
       "    </tr>\n",
       "    <tr>\n",
       "      <th>1032</th>\n",
       "      <td>67.0</td>\n",
       "      <td>1.0</td>\n",
       "      <td>4.0</td>\n",
       "      <td>160</td>\n",
       "      <td>286.0</td>\n",
       "      <td>0.0</td>\n",
       "      <td>2.0</td>\n",
       "      <td>108</td>\n",
       "      <td>1.0</td>\n",
       "      <td>1.500000</td>\n",
       "      <td>2.0</td>\n",
       "      <td>3</td>\n",
       "      <td>3.0</td>\n",
       "      <td>2</td>\n",
       "    </tr>\n",
       "  </tbody>\n",
       "</table>\n",
       "<p>1033 rows × 14 columns</p>\n",
       "</div>"
      ],
      "text/plain": [
       "       Age  Sex  Chest_pain  Rest_bps   Chol  Blood_sugar  Rest_ecg  \\\n",
       "0     63.0  1.0         1.0       145  233.0          1.0       2.0   \n",
       "1     67.0  1.0         4.0       160  286.0          0.0       2.0   \n",
       "2     67.0  1.0         4.0       120  229.0          0.0       2.0   \n",
       "3     37.0  1.0         3.0       130  250.0          0.0       0.0   \n",
       "4     41.0  0.0         2.0       130  204.0          0.0       2.0   \n",
       "...    ...  ...         ...       ...    ...          ...       ...   \n",
       "1028  52.0  1.0         3.0       172  199.0          1.0       0.0   \n",
       "1029  44.0  1.0         2.0       120  263.0          0.0       0.0   \n",
       "1030  56.0  0.0         0.0       140  294.0          0.0       2.0   \n",
       "1031  57.0  1.0         4.0       140  192.0          0.0       0.0   \n",
       "1032  67.0  1.0         4.0       160  286.0          0.0       2.0   \n",
       "\n",
       "      Max_heart_rate  Ex_ang  Old_peak  Slope  Vessel  Thal  Target  \n",
       "0                150     0.0  2.300000    3.0       0   6.0       0  \n",
       "1                108     1.0  1.066496    2.0       3   3.0       2  \n",
       "2                129     1.0  2.600000    2.0       2   7.0       1  \n",
       "3                187     0.0  3.500000    3.0       0   3.0       0  \n",
       "4                172     0.0  1.400000    1.0       0   3.0       0  \n",
       "...              ...     ...       ...    ...     ...   ...     ...  \n",
       "1028             162     0.0  0.500000    1.0       0   7.0       1  \n",
       "1029             173     0.0  0.000000    1.0       0   7.0       1  \n",
       "1030             153     0.0  1.300000    2.0       0   3.0       1  \n",
       "1031             148     0.0  0.400000    2.0       0   6.0       1  \n",
       "1032             108     1.0  1.500000    2.0       3   3.0       2  \n",
       "\n",
       "[1033 rows x 14 columns]"
      ]
     },
     "execution_count": 14,
     "metadata": {},
     "output_type": "execute_result"
    }
   ],
   "source": [
    "# Reset index to represent actual DataFrame after removing duplicates\n",
    "df = df.reset_index(drop=True)\n",
    "df"
   ]
  },
  {
   "cell_type": "markdown",
   "metadata": {},
   "source": [
    "The duplicated rows have been dropped successfully"
   ]
  },
  {
   "cell_type": "code",
   "execution_count": 15,
   "metadata": {},
   "outputs": [],
   "source": [
    "# Convert each feature to it's data type\n",
    "data_types = {\n",
    "    'Age': float,\n",
    "    'Sex': int,\n",
    "    'Chest_pain': int,\n",
    "    'Rest_bps': int,\n",
    "    'Chol': float,\n",
    "    'Blood_sugar': int,\n",
    "    'Rest_ecg': int,\n",
    "    'Max_heart_rate': int,\n",
    "    'Ex_ang': int,\n",
    "    'Old_peak': float,\n",
    "    'Slope': int,\n",
    "    'Vessel': int,\n",
    "    'Thal': int,\n",
    "    'Target': int\n",
    "}\n",
    "\n",
    "df = df.astype(data_types)"
   ]
  },
  {
   "cell_type": "code",
   "execution_count": 16,
   "metadata": {},
   "outputs": [
    {
     "data": {
      "text/html": [
       "<div>\n",
       "<style scoped>\n",
       "    .dataframe tbody tr th:only-of-type {\n",
       "        vertical-align: middle;\n",
       "    }\n",
       "\n",
       "    .dataframe tbody tr th {\n",
       "        vertical-align: top;\n",
       "    }\n",
       "\n",
       "    .dataframe thead th {\n",
       "        text-align: right;\n",
       "    }\n",
       "</style>\n",
       "<table border=\"1\" class=\"dataframe\">\n",
       "  <thead>\n",
       "    <tr style=\"text-align: right;\">\n",
       "      <th></th>\n",
       "      <th>Age</th>\n",
       "      <th>Sex</th>\n",
       "      <th>Chest_pain</th>\n",
       "      <th>Rest_bps</th>\n",
       "      <th>Chol</th>\n",
       "      <th>Blood_sugar</th>\n",
       "      <th>Rest_ecg</th>\n",
       "      <th>Max_heart_rate</th>\n",
       "      <th>Ex_ang</th>\n",
       "      <th>Old_peak</th>\n",
       "      <th>Slope</th>\n",
       "      <th>Vessel</th>\n",
       "      <th>Thal</th>\n",
       "      <th>Target</th>\n",
       "    </tr>\n",
       "  </thead>\n",
       "  <tbody>\n",
       "    <tr>\n",
       "      <th>0</th>\n",
       "      <td>63.0</td>\n",
       "      <td>1</td>\n",
       "      <td>1</td>\n",
       "      <td>145</td>\n",
       "      <td>233.0</td>\n",
       "      <td>1</td>\n",
       "      <td>2</td>\n",
       "      <td>150</td>\n",
       "      <td>0</td>\n",
       "      <td>2.300000</td>\n",
       "      <td>3</td>\n",
       "      <td>0</td>\n",
       "      <td>6</td>\n",
       "      <td>0</td>\n",
       "    </tr>\n",
       "    <tr>\n",
       "      <th>1</th>\n",
       "      <td>67.0</td>\n",
       "      <td>1</td>\n",
       "      <td>4</td>\n",
       "      <td>160</td>\n",
       "      <td>286.0</td>\n",
       "      <td>0</td>\n",
       "      <td>2</td>\n",
       "      <td>108</td>\n",
       "      <td>1</td>\n",
       "      <td>1.066496</td>\n",
       "      <td>2</td>\n",
       "      <td>3</td>\n",
       "      <td>3</td>\n",
       "      <td>2</td>\n",
       "    </tr>\n",
       "    <tr>\n",
       "      <th>2</th>\n",
       "      <td>67.0</td>\n",
       "      <td>1</td>\n",
       "      <td>4</td>\n",
       "      <td>120</td>\n",
       "      <td>229.0</td>\n",
       "      <td>0</td>\n",
       "      <td>2</td>\n",
       "      <td>129</td>\n",
       "      <td>1</td>\n",
       "      <td>2.600000</td>\n",
       "      <td>2</td>\n",
       "      <td>2</td>\n",
       "      <td>7</td>\n",
       "      <td>1</td>\n",
       "    </tr>\n",
       "    <tr>\n",
       "      <th>3</th>\n",
       "      <td>37.0</td>\n",
       "      <td>1</td>\n",
       "      <td>3</td>\n",
       "      <td>130</td>\n",
       "      <td>250.0</td>\n",
       "      <td>0</td>\n",
       "      <td>0</td>\n",
       "      <td>187</td>\n",
       "      <td>0</td>\n",
       "      <td>3.500000</td>\n",
       "      <td>3</td>\n",
       "      <td>0</td>\n",
       "      <td>3</td>\n",
       "      <td>0</td>\n",
       "    </tr>\n",
       "    <tr>\n",
       "      <th>4</th>\n",
       "      <td>41.0</td>\n",
       "      <td>0</td>\n",
       "      <td>2</td>\n",
       "      <td>130</td>\n",
       "      <td>204.0</td>\n",
       "      <td>0</td>\n",
       "      <td>2</td>\n",
       "      <td>172</td>\n",
       "      <td>0</td>\n",
       "      <td>1.400000</td>\n",
       "      <td>1</td>\n",
       "      <td>0</td>\n",
       "      <td>3</td>\n",
       "      <td>0</td>\n",
       "    </tr>\n",
       "  </tbody>\n",
       "</table>\n",
       "</div>"
      ],
      "text/plain": [
       "    Age  Sex  Chest_pain  Rest_bps   Chol  Blood_sugar  Rest_ecg  \\\n",
       "0  63.0    1           1       145  233.0            1         2   \n",
       "1  67.0    1           4       160  286.0            0         2   \n",
       "2  67.0    1           4       120  229.0            0         2   \n",
       "3  37.0    1           3       130  250.0            0         0   \n",
       "4  41.0    0           2       130  204.0            0         2   \n",
       "\n",
       "   Max_heart_rate  Ex_ang  Old_peak  Slope  Vessel  Thal  Target  \n",
       "0             150       0  2.300000      3       0     6       0  \n",
       "1             108       1  1.066496      2       3     3       2  \n",
       "2             129       1  2.600000      2       2     7       1  \n",
       "3             187       0  3.500000      3       0     3       0  \n",
       "4             172       0  1.400000      1       0     3       0  "
      ]
     },
     "execution_count": 16,
     "metadata": {},
     "output_type": "execute_result"
    }
   ],
   "source": [
    "# View DataFrame\n",
    "\n",
    "df.head()\n"
   ]
  },
  {
   "cell_type": "markdown",
   "metadata": {},
   "source": [
    "## `Step 3:` Feature Understanding (EDA)"
   ]
  },
  {
   "cell_type": "markdown",
   "metadata": {},
   "source": [
    "This process is to understand each feature (univariate analysis)"
   ]
  },
  {
   "cell_type": "code",
   "execution_count": 17,
   "metadata": {},
   "outputs": [
    {
     "data": {
      "text/html": [
       "<div>\n",
       "<style scoped>\n",
       "    .dataframe tbody tr th:only-of-type {\n",
       "        vertical-align: middle;\n",
       "    }\n",
       "\n",
       "    .dataframe tbody tr th {\n",
       "        vertical-align: top;\n",
       "    }\n",
       "\n",
       "    .dataframe thead th {\n",
       "        text-align: right;\n",
       "    }\n",
       "</style>\n",
       "<table border=\"1\" class=\"dataframe\">\n",
       "  <thead>\n",
       "    <tr style=\"text-align: right;\">\n",
       "      <th></th>\n",
       "      <th>Age</th>\n",
       "      <th>Sex</th>\n",
       "      <th>Chest_pain</th>\n",
       "      <th>Rest_bps</th>\n",
       "      <th>Chol</th>\n",
       "      <th>Blood_sugar</th>\n",
       "      <th>Rest_ecg</th>\n",
       "      <th>Max_heart_rate</th>\n",
       "      <th>Ex_ang</th>\n",
       "      <th>Old_peak</th>\n",
       "      <th>Slope</th>\n",
       "      <th>Vessel</th>\n",
       "      <th>Thal</th>\n",
       "      <th>Target</th>\n",
       "    </tr>\n",
       "  </thead>\n",
       "  <tbody>\n",
       "    <tr>\n",
       "      <th>count</th>\n",
       "      <td>1033.000000</td>\n",
       "      <td>1033.000000</td>\n",
       "      <td>1033.000000</td>\n",
       "      <td>1033.000000</td>\n",
       "      <td>1033.000000</td>\n",
       "      <td>1033.000000</td>\n",
       "      <td>1033.000000</td>\n",
       "      <td>1033.000000</td>\n",
       "      <td>1033.000000</td>\n",
       "      <td>1033.000000</td>\n",
       "      <td>1033.000000</td>\n",
       "      <td>1033.000000</td>\n",
       "      <td>1033.000000</td>\n",
       "      <td>1033.000000</td>\n",
       "    </tr>\n",
       "    <tr>\n",
       "      <th>mean</th>\n",
       "      <td>54.283570</td>\n",
       "      <td>0.688287</td>\n",
       "      <td>1.901258</td>\n",
       "      <td>131.547919</td>\n",
       "      <td>246.874590</td>\n",
       "      <td>0.137464</td>\n",
       "      <td>0.792836</td>\n",
       "      <td>150.313650</td>\n",
       "      <td>0.306873</td>\n",
       "      <td>1.036587</td>\n",
       "      <td>1.476283</td>\n",
       "      <td>0.682478</td>\n",
       "      <td>3.585673</td>\n",
       "      <td>0.880929</td>\n",
       "    </tr>\n",
       "    <tr>\n",
       "      <th>std</th>\n",
       "      <td>8.762865</td>\n",
       "      <td>0.463418</td>\n",
       "      <td>1.543908</td>\n",
       "      <td>17.820103</td>\n",
       "      <td>49.818472</td>\n",
       "      <td>0.344503</td>\n",
       "      <td>0.844308</td>\n",
       "      <td>22.873014</td>\n",
       "      <td>0.461420</td>\n",
       "      <td>1.139899</td>\n",
       "      <td>0.625422</td>\n",
       "      <td>0.965416</td>\n",
       "      <td>1.888528</td>\n",
       "      <td>0.856097</td>\n",
       "    </tr>\n",
       "    <tr>\n",
       "      <th>min</th>\n",
       "      <td>29.000000</td>\n",
       "      <td>0.000000</td>\n",
       "      <td>0.000000</td>\n",
       "      <td>94.000000</td>\n",
       "      <td>126.000000</td>\n",
       "      <td>0.000000</td>\n",
       "      <td>0.000000</td>\n",
       "      <td>71.000000</td>\n",
       "      <td>0.000000</td>\n",
       "      <td>0.000000</td>\n",
       "      <td>0.000000</td>\n",
       "      <td>0.000000</td>\n",
       "      <td>0.000000</td>\n",
       "      <td>0.000000</td>\n",
       "    </tr>\n",
       "    <tr>\n",
       "      <th>25%</th>\n",
       "      <td>48.000000</td>\n",
       "      <td>0.000000</td>\n",
       "      <td>0.000000</td>\n",
       "      <td>120.000000</td>\n",
       "      <td>212.000000</td>\n",
       "      <td>0.000000</td>\n",
       "      <td>0.000000</td>\n",
       "      <td>134.000000</td>\n",
       "      <td>0.000000</td>\n",
       "      <td>0.000000</td>\n",
       "      <td>1.000000</td>\n",
       "      <td>0.000000</td>\n",
       "      <td>2.000000</td>\n",
       "      <td>0.000000</td>\n",
       "    </tr>\n",
       "    <tr>\n",
       "      <th>50%</th>\n",
       "      <td>54.427627</td>\n",
       "      <td>1.000000</td>\n",
       "      <td>2.000000</td>\n",
       "      <td>130.000000</td>\n",
       "      <td>245.000000</td>\n",
       "      <td>0.000000</td>\n",
       "      <td>1.000000</td>\n",
       "      <td>154.000000</td>\n",
       "      <td>0.000000</td>\n",
       "      <td>0.800000</td>\n",
       "      <td>1.000000</td>\n",
       "      <td>0.000000</td>\n",
       "      <td>3.000000</td>\n",
       "      <td>1.000000</td>\n",
       "    </tr>\n",
       "    <tr>\n",
       "      <th>75%</th>\n",
       "      <td>60.000000</td>\n",
       "      <td>1.000000</td>\n",
       "      <td>3.000000</td>\n",
       "      <td>140.000000</td>\n",
       "      <td>271.000000</td>\n",
       "      <td>0.000000</td>\n",
       "      <td>2.000000</td>\n",
       "      <td>168.000000</td>\n",
       "      <td>1.000000</td>\n",
       "      <td>1.600000</td>\n",
       "      <td>2.000000</td>\n",
       "      <td>1.000000</td>\n",
       "      <td>3.000000</td>\n",
       "      <td>1.000000</td>\n",
       "    </tr>\n",
       "    <tr>\n",
       "      <th>max</th>\n",
       "      <td>77.000000</td>\n",
       "      <td>1.000000</td>\n",
       "      <td>4.000000</td>\n",
       "      <td>200.000000</td>\n",
       "      <td>564.000000</td>\n",
       "      <td>1.000000</td>\n",
       "      <td>2.000000</td>\n",
       "      <td>202.000000</td>\n",
       "      <td>1.000000</td>\n",
       "      <td>6.200000</td>\n",
       "      <td>3.000000</td>\n",
       "      <td>4.000000</td>\n",
       "      <td>7.000000</td>\n",
       "      <td>4.000000</td>\n",
       "    </tr>\n",
       "  </tbody>\n",
       "</table>\n",
       "</div>"
      ],
      "text/plain": [
       "               Age          Sex   Chest_pain     Rest_bps         Chol  \\\n",
       "count  1033.000000  1033.000000  1033.000000  1033.000000  1033.000000   \n",
       "mean     54.283570     0.688287     1.901258   131.547919   246.874590   \n",
       "std       8.762865     0.463418     1.543908    17.820103    49.818472   \n",
       "min      29.000000     0.000000     0.000000    94.000000   126.000000   \n",
       "25%      48.000000     0.000000     0.000000   120.000000   212.000000   \n",
       "50%      54.427627     1.000000     2.000000   130.000000   245.000000   \n",
       "75%      60.000000     1.000000     3.000000   140.000000   271.000000   \n",
       "max      77.000000     1.000000     4.000000   200.000000   564.000000   \n",
       "\n",
       "       Blood_sugar     Rest_ecg  Max_heart_rate       Ex_ang     Old_peak  \\\n",
       "count  1033.000000  1033.000000     1033.000000  1033.000000  1033.000000   \n",
       "mean      0.137464     0.792836      150.313650     0.306873     1.036587   \n",
       "std       0.344503     0.844308       22.873014     0.461420     1.139899   \n",
       "min       0.000000     0.000000       71.000000     0.000000     0.000000   \n",
       "25%       0.000000     0.000000      134.000000     0.000000     0.000000   \n",
       "50%       0.000000     1.000000      154.000000     0.000000     0.800000   \n",
       "75%       0.000000     2.000000      168.000000     1.000000     1.600000   \n",
       "max       1.000000     2.000000      202.000000     1.000000     6.200000   \n",
       "\n",
       "             Slope       Vessel         Thal       Target  \n",
       "count  1033.000000  1033.000000  1033.000000  1033.000000  \n",
       "mean      1.476283     0.682478     3.585673     0.880929  \n",
       "std       0.625422     0.965416     1.888528     0.856097  \n",
       "min       0.000000     0.000000     0.000000     0.000000  \n",
       "25%       1.000000     0.000000     2.000000     0.000000  \n",
       "50%       1.000000     0.000000     3.000000     1.000000  \n",
       "75%       2.000000     1.000000     3.000000     1.000000  \n",
       "max       3.000000     4.000000     7.000000     4.000000  "
      ]
     },
     "execution_count": 17,
     "metadata": {},
     "output_type": "execute_result"
    }
   ],
   "source": [
    "# Check statistical information of the dataset now that missing values and duplicates have been handled\n",
    "\n",
    "df.describe()"
   ]
  },
  {
   "cell_type": "code",
   "execution_count": 18,
   "metadata": {},
   "outputs": [
    {
     "data": {
      "text/plain": [
       "Text(0, 0.5, 'Frequency')"
      ]
     },
     "execution_count": 18,
     "metadata": {},
     "output_type": "execute_result"
    },
    {
     "data": {
      "image/png": "[encoded data removed]",
      "text/plain": [
       "<Figure size 640x480 with 1 Axes>"
      ]
     },
     "metadata": {},
     "output_type": "display_data"
    }
   ],
   "source": [
    "# Age\n",
    "\n",
    "ax=df['Age'].plot(kind='hist', title='Age Distribution')\n",
    "ax.set_xlabel('Age')\n",
    "ax.set_ylabel('Frequency')"
   ]
  },
  {
   "cell_type": "code",
   "execution_count": 19,
   "metadata": {},
   "outputs": [
    {
     "data": {
      "text/plain": [
       "Text(0, 0.5, 'Count')"
      ]
     },
     "execution_count": 19,
     "metadata": {},
     "output_type": "execute_result"
    },
    {
     "data": {
      "image/png": "[encoded data removed]",
      "text/plain": [
       "<Figure size 640x480 with 1 Axes>"
      ]
     },
     "metadata": {},
     "output_type": "display_data"
    }
   ],
   "source": [
    "# Sex\n",
    "\n",
    "ax=df['Sex'].value_counts().plot(kind='bar', title='Sex Count')\n",
    "ax.set_xlabel('Sex')\n",
    "ax.set_ylabel('Count')"
   ]
  },
  {
   "cell_type": "markdown",
   "metadata": {},
   "source": [
    "There are more Males than Females"
   ]
  },
  {
   "cell_type": "code",
   "execution_count": 20,
   "metadata": {},
   "outputs": [
    {
     "data": {
      "text/plain": [
       "Age               0\n",
       "Sex               0\n",
       "Chest_pain        0\n",
       "Rest_bps          0\n",
       "Chol              0\n",
       "Blood_sugar       0\n",
       "Rest_ecg          0\n",
       "Max_heart_rate    0\n",
       "Ex_ang            0\n",
       "Old_peak          0\n",
       "Slope             0\n",
       "Vessel            0\n",
       "Thal              0\n",
       "Target            0\n",
       "dtype: int64"
      ]
     },
     "execution_count": 20,
     "metadata": {},
     "output_type": "execute_result"
    }
   ],
   "source": [
    "# Chest Pain Types\n",
    "df.isna().sum()\n",
    "#df['Chest_pain'].value_counts()"
   ]
  },
  {
   "cell_type": "markdown",
   "metadata": {},
   "source": [
    "Notice that 0 does not have a special value and is thus an error we must deal with "
   ]
  },
  {
   "cell_type": "code",
   "execution_count": 21,
   "metadata": {},
   "outputs": [
    {
     "name": "stdout",
     "output_type": "stream",
     "text": [
      "Total number of rows with value 0 in 'Chp' column: 315\n"
     ]
    }
   ],
   "source": [
    "num_rows_with_zero = (df['Chest_pain'] == 0).sum()\n",
    "print(\"Total number of rows with value 0 in 'Chp' column:\", num_rows_with_zero)"
   ]
  },
  {
   "cell_type": "markdown",
   "metadata": {},
   "source": [
    "There are 315 samples with the value 0 which is undefined. 315 is a lot of valuable information to drop from the dataset so we can replace them similar to missing values"
   ]
  },
  {
   "cell_type": "code",
   "execution_count": 22,
   "metadata": {},
   "outputs": [
    {
     "data": {
      "text/plain": [
       "0    1\n",
       "1    4\n",
       "2    4\n",
       "3    3\n",
       "4    2\n",
       "Name: Chest_pain, dtype: int32"
      ]
     },
     "execution_count": 22,
     "metadata": {},
     "output_type": "execute_result"
    }
   ],
   "source": [
    "# Replace 0 with NaN values\n",
    "df['Chest_pain'].replace(0, np.nan, inplace=True)\n",
    "\n",
    "# Impute missing values in 'Chp' column using mode imputation\n",
    "chp_mode = int(df['Chest_pain'].mode()[0])\n",
    "\n",
    "# FIll NaN values with the mode because the data is nominal\n",
    "df['Chest_pain'].fillna(chp_mode, inplace=True)\n",
    "\n",
    "df['Chest_pain'] = df['Chest_pain'].astype(int)\n",
    "\n",
    "df['Chest_pain'].head()\n",
    "\n"
   ]
  },
  {
   "cell_type": "code",
   "execution_count": 23,
   "metadata": {},
   "outputs": [
    {
     "data": {
      "text/plain": [
       "Text(0, 0.5, 'Chest Pain')"
      ]
     },
     "execution_count": 23,
     "metadata": {},
     "output_type": "execute_result"
    },
    {
     "data": {
      "image/png": "[encoded data removed]",
      "text/plain": [
       "<Figure size 640x480 with 1 Axes>"
      ]
     },
     "metadata": {},
     "output_type": "display_data"
    }
   ],
   "source": [
    "ax = df['Chest_pain'].value_counts().plot(kind='pie', title='Chest Pain Count', legend=True)\n",
    "ax.set_ylabel('Chest Pain')"
   ]
  },
  {
   "cell_type": "markdown",
   "metadata": {},
   "source": [
    "Frequency of Chest pain based on the type:\n",
    "1 = typical angina, 2 = atypical angina, 3 = nonanginal pain, 4 = asymptomatic\n",
    "\n",
    "Asymptomatic has the highest count with 546 patients"
   ]
  },
  {
   "cell_type": "code",
   "execution_count": 24,
   "metadata": {},
   "outputs": [
    {
     "data": {
      "text/plain": [
       "<Axes: ylabel='Frequency'>"
      ]
     },
     "execution_count": 24,
     "metadata": {},
     "output_type": "execute_result"
    },
    {
     "data": {
      "image/png": "[encoded data removed]",
      "text/plain": [
       "<Figure size 640x480 with 1 Axes>"
      ]
     },
     "metadata": {},
     "output_type": "display_data"
    }
   ],
   "source": [
    "# Resting Blood Pressure\n",
    "df['Rest_bps'].plot(kind='hist', title='')"
   ]
  },
  {
   "cell_type": "code",
   "execution_count": 25,
   "metadata": {},
   "outputs": [
    {
     "data": {
      "text/plain": [
       "Text(0, 0.5, 'Frequency')"
      ]
     },
     "execution_count": 25,
     "metadata": {},
     "output_type": "execute_result"
    },
    {
     "data": {
      "image/png": "[encoded data removed]",
      "text/plain": [
       "<Figure size 640x480 with 1 Axes>"
      ]
     },
     "metadata": {},
     "output_type": "display_data"
    }
   ],
   "source": [
    "# Cholestorol level\n",
    "\n",
    "ax=df['Chol'].plot(kind='hist', title='Cholestorol Distribution')\n",
    "ax.set_xlabel('Cholestorol Level')\n",
    "ax.set_ylabel('Frequency')\n"
   ]
  },
  {
   "cell_type": "markdown",
   "metadata": {},
   "source": []
  },
  {
   "cell_type": "markdown",
   "metadata": {},
   "source": [
    "## `Step 4:` Feature Relationship"
   ]
  },
  {
   "cell_type": "markdown",
   "metadata": {},
   "source": [
    "Finding the relationships between the features to identify the best feature for building a prediction model"
   ]
  },
  {
   "cell_type": "markdown",
   "metadata": {},
   "source": [
    "`Numerical Values` Numerical values are best handled using correlation statistics or scatterplots to visualize the data\n",
    "\n",
    "The Numerical Features in the dataset are: Age, Rest_bps, Chol, Max_heart_rate and Old_peak"
   ]
  },
  {
   "cell_type": "code",
   "execution_count": 26,
   "metadata": {},
   "outputs": [],
   "source": [
    "# Dataframe for numerical features\n",
    "num_features = df[['Age', 'Rest_bps', 'Chol', 'Max_heart_rate', 'Old_peak']]\n"
   ]
  },
  {
   "cell_type": "code",
   "execution_count": 27,
   "metadata": {},
   "outputs": [
    {
     "data": {
      "text/plain": [
       "Age               0.038255\n",
       "Rest_bps          0.023581\n",
       "Chol              0.040888\n",
       "Max_heart_rate    0.068602\n",
       "Old_peak          0.076960\n",
       "dtype: float64"
      ]
     },
     "execution_count": 27,
     "metadata": {},
     "output_type": "execute_result"
    }
   ],
   "source": [
    "# Calculate Spearman rank correlation for numerical features with ordinal target variable 'Class'\n",
    "\n",
    "sp_corr = num_features.corrwith(df['Target'], method='spearman').abs()\n",
    "\n",
    "sp_corr"
   ]
  },
  {
   "cell_type": "markdown",
   "metadata": {},
   "source": [
    "Result - Weak positive correlation with Old Peak having the most effect. An increase in these features will lead to an increase in likelihood of cardiovascular diseases albeit slight."
   ]
  },
  {
   "cell_type": "markdown",
   "metadata": {},
   "source": []
  },
  {
   "cell_type": "markdown",
   "metadata": {},
   "source": [
    "`Binary Features:` Columns with binary features (0,1)"
   ]
  },
  {
   "cell_type": "code",
   "execution_count": 28,
   "metadata": {},
   "outputs": [],
   "source": [
    "# Dataframe for binary features \n",
    "\n",
    "bin_features = df[['Sex', 'Blood_sugar', 'Ex_ang']]"
   ]
  },
  {
   "cell_type": "code",
   "execution_count": 29,
   "metadata": {},
   "outputs": [
    {
     "name": "stdout",
     "output_type": "stream",
     "text": [
      "Sex: 0.052901513147435464\n",
      "Blood_sugar: 0.006268892130046038\n",
      "Ex_ang: 0.11957352439884299\n"
     ]
    }
   ],
   "source": [
    "# Calculate and print point-biserial correlation coefficients\n",
    "for feature in bin_features:\n",
    "    corr_coef, _ = pointbiserialr(df[feature], df['Target'])\n",
    "    print(f\"{feature}: {corr_coef}\")"
   ]
  },
  {
   "cell_type": "code",
   "execution_count": 30,
   "metadata": {},
   "outputs": [],
   "source": [
    "# Define nominal features\n",
    "nomi_features = df[['Chest_pain', 'Rest_ecg', 'Slope', 'Vessel', 'Thal']]"
   ]
  },
  {
   "cell_type": "code",
   "execution_count": 31,
   "metadata": {},
   "outputs": [
    {
     "name": "stdout",
     "output_type": "stream",
     "text": [
      "Thal: Chi-square = 522.1195930617754, p-value = 6.749059246899868e-98\n",
      "Rest_ecg: Chi-square = 171.16413209748205, p-value = 7.353407814304064e-33\n",
      "Vessel: Chi-square = 174.97673617857586, p-value = 8.536238022315468e-29\n",
      "Chest_pain: Chi-square = 130.27428023506778, p-value = 5.437108745674303e-22\n",
      "Slope: Chi-square = 126.79158542895871, p-value = 2.714831653167445e-21\n"
     ]
    }
   ],
   "source": [
    "# Perform chi-square test for each nominal feature\n",
    "chi2_results = {}\n",
    "for feature in nomi_features:\n",
    "    # Create contingency table with frequencies for each category in the feature and 'Class'\n",
    "    contingency_table = pd.crosstab(df[feature], df['Target'])\n",
    "    \n",
    "    # Perform chi-square test\n",
    "    chi2, p_value, _, _ = chi2_contingency(contingency_table)\n",
    "    \n",
    "    # Store chi-square statistic and p-value in results dictionary\n",
    "    chi2_results[feature] = {'chi2': chi2, 'p_value': p_value}\n",
    "\n",
    "# Sort the nominal features based on p-value in ascending order\n",
    "sorted_features = sorted(chi2_results.items(), key=lambda x: x[1]['p_value'])\n",
    "\n",
    "for feature, result in sorted_features:\n",
    "    print(f\"{feature}: Chi-square = {result['chi2']}, p-value = {result['p_value']}\")\n"
   ]
  },
  {
   "cell_type": "markdown",
   "metadata": {},
   "source": [
    "In order of significance, Defect type plays the most significant role in the likelihood of cardiovascular diseases "
   ]
  },
  {
   "cell_type": "markdown",
   "metadata": {},
   "source": []
  },
  {
   "cell_type": "markdown",
   "metadata": {},
   "source": [
    "##### FEATURES SELECTED\n",
    "\n",
    "|Feature| Significance|\n",
    "|-------|--------|\n",
    "|Thal (Nominal)| Extremely strong association with the target variable|\n",
    "|Rest_ecg (Nominal)| Strong association with the target variable|\n",
    "|Vessel (Nominal)| Strong association with the target variable|\n",
    "|Ex_ang (Binary)| Moderate association with the target variable|\n",
    "|Max_heart_rate (Numerical)| Moderate association with the target variable|\n",
    "|Old_peak (Numerical)| Moderate association with the target variable|"
   ]
  },
  {
   "cell_type": "code",
   "execution_count": 60,
   "metadata": {},
   "outputs": [],
   "source": [
    "Selected_features = df[['Thal', 'Rest_ecg', 'Vessel', 'Ex_ang', 'Max_heart_rate', 'Old_peak']]\n",
    "\n",
    "nom = df[['Sex', 'Chest_pain', 'Blood_sugar', 'Rest_ecg', 'Ex_ang', 'Slope', 'Vessel', 'Thal']]\n",
    "num = df[['Age', 'Rest_bps', 'Chol', 'Max_heart_rate', 'Old_peak']]"
   ]
  },
  {
   "cell_type": "markdown",
   "metadata": {},
   "source": []
  },
  {
   "cell_type": "markdown",
   "metadata": {},
   "source": [
    "## ``Step 5``: Model Selection"
   ]
  },
  {
   "cell_type": "markdown",
   "metadata": {},
   "source": [
    "Project objective: Predict the likelihood of cardiovascular diseases\\\n",
    "\\\n",
    "Predictor: Thal, Resting Blood Pressure, Blood vessel, Exercise angine, Maximum heart rate and Old peak\\\n",
    "\\\n",
    "Target: 0 = very unlikely, 1 = unlikely, 2 = possible, 3 = likely, 4 = very likely \\\n",
    "\\\n",
    "Problem type: Classification"
   ]
  },
  {
   "cell_type": "markdown",
   "metadata": {},
   "source": [
    "### Split Dataset"
   ]
  },
  {
   "cell_type": "code",
   "execution_count": 46,
   "metadata": {},
   "outputs": [],
   "source": [
    "# Create X and Y - Predictor and Target Variable\n",
    "\n",
    "X = Selected_features\n",
    "y = df['Target']\n",
    "\n",
    "# Split into Training and Testing set for prediction\n",
    "\n",
    "X_train, X_test, y_train, y_test = train_test_split(X, y, test_size=0.2, random_state=42)"
   ]
  },
  {
   "cell_type": "markdown",
   "metadata": {},
   "source": [
    "#### Logistic Regression Model"
   ]
  },
  {
   "cell_type": "markdown",
   "metadata": {},
   "source": [
    "Logistic Regression can handle numerical and binary features effectively."
   ]
  },
  {
   "cell_type": "code",
   "execution_count": 47,
   "metadata": {},
   "outputs": [
    {
     "name": "stderr",
     "output_type": "stream",
     "text": [
      "c:\\Users\\Timi\\anaconda3\\Lib\\site-packages\\sklearn\\linear_model\\_logistic.py:460: ConvergenceWarning: lbfgs failed to converge (status=1):\n",
      "STOP: TOTAL NO. of ITERATIONS REACHED LIMIT.\n",
      "\n",
      "Increase the number of iterations (max_iter) or scale the data as shown in:\n",
      "    https://scikit-learn.org/stable/modules/preprocessing.html\n",
      "Please also refer to the documentation for alternative solver options:\n",
      "    https://scikit-learn.org/stable/modules/linear_model.html#logistic-regression\n",
      "  n_iter_i = _check_optimize_result(\n"
     ]
    }
   ],
   "source": [
    "# Initialize Logistic Regression model\n",
    "log_reg = LogisticRegression()\n",
    "\n",
    "# Train/ fit the model\n",
    "log_reg.fit(X_train, y_train)\n",
    "\n",
    "# Make predictions on the testing data\n",
    "y_pred = log_reg.predict(X_test)"
   ]
  },
  {
   "cell_type": "code",
   "execution_count": 48,
   "metadata": {},
   "outputs": [
    {
     "name": "stdout",
     "output_type": "stream",
     "text": [
      "Accuracy: 0.5700483091787439\n"
     ]
    }
   ],
   "source": [
    "# Evaluate the performance of the model\n",
    "accuracy = accuracy_score(y_test, y_pred)\n",
    "print(\"Accuracy:\", accuracy)"
   ]
  },
  {
   "cell_type": "markdown",
   "metadata": {},
   "source": [
    "### Decision Tree and Random Forests"
   ]
  },
  {
   "cell_type": "markdown",
   "metadata": {},
   "source": [
    "Decision Trees and Random Forests can handle mixed data types including numerical and nominal features without requiring extensive preprocessing."
   ]
  },
  {
   "cell_type": "code",
   "execution_count": 49,
   "metadata": {},
   "outputs": [],
   "source": [
    "# Initialize decision tree classifier\n",
    "decision_tree = DecisionTreeClassifier()\n",
    "\n",
    "# Train the Classifier\n",
    "decision_tree.fit(X_train, y_train)\n",
    "\n",
    "# Make predictions on the testing data\n",
    "y_pred_dt = decision_tree.predict(X_test)"
   ]
  },
  {
   "cell_type": "code",
   "execution_count": 50,
   "metadata": {},
   "outputs": [
    {
     "name": "stdout",
     "output_type": "stream",
     "text": [
      "Decision Tree Accuracy: 0.5072463768115942\n"
     ]
    }
   ],
   "source": [
    "# Evaluate the performance of the model\n",
    "accuracy_dt = accuracy_score(y_test, y_pred_dt)\n",
    "print(\"Decision Tree Accuracy:\", accuracy_dt)"
   ]
  },
  {
   "cell_type": "markdown",
   "metadata": {},
   "source": [
    "#### Random Forests"
   ]
  },
  {
   "cell_type": "code",
   "execution_count": 51,
   "metadata": {},
   "outputs": [],
   "source": [
    "# Initialize and train the random forest classifier\n",
    "random_forest = RandomForestClassifier()\n",
    "\n",
    "# Train the Classifier\n",
    "random_forest.fit(X_train, y_train)\n",
    "\n",
    "# Make predictions on the testing data\n",
    "y_pred_rf = random_forest.predict(X_test)"
   ]
  },
  {
   "cell_type": "code",
   "execution_count": 52,
   "metadata": {},
   "outputs": [
    {
     "name": "stdout",
     "output_type": "stream",
     "text": [
      "Random Forest Accuracy: 0.5362318840579711\n"
     ]
    }
   ],
   "source": [
    "\n",
    "# Evaluate the performance of the model\n",
    "accuracy_rf = accuracy_score(y_test, y_pred_rf)\n",
    "print(\"Random Forest Accuracy:\", accuracy_rf)"
   ]
  },
  {
   "cell_type": "markdown",
   "metadata": {},
   "source": [
    "### Support Vector Machines"
   ]
  },
  {
   "cell_type": "code",
   "execution_count": 64,
   "metadata": {},
   "outputs": [
    {
     "name": "stdout",
     "output_type": "stream",
     "text": [
      "SVM Accuracy: 0.45893719806763283\n",
      "              precision    recall  f1-score   support\n",
      "\n",
      "           0       0.36      0.25      0.29        73\n",
      "           1       0.49      0.82      0.61        94\n",
      "           2       0.00      0.00      0.00        31\n",
      "           3       0.00      0.00      0.00         6\n",
      "           4       0.00      0.00      0.00         3\n",
      "\n",
      "    accuracy                           0.46       207\n",
      "   macro avg       0.17      0.21      0.18       207\n",
      "weighted avg       0.35      0.46      0.38       207\n",
      "\n"
     ]
    },
    {
     "name": "stderr",
     "output_type": "stream",
     "text": [
      "c:\\Users\\Timi\\anaconda3\\Lib\\site-packages\\sklearn\\metrics\\_classification.py:1469: UndefinedMetricWarning: Precision and F-score are ill-defined and being set to 0.0 in labels with no predicted samples. Use `zero_division` parameter to control this behavior.\n",
      "  _warn_prf(average, modifier, msg_start, len(result))\n",
      "c:\\Users\\Timi\\anaconda3\\Lib\\site-packages\\sklearn\\metrics\\_classification.py:1469: UndefinedMetricWarning: Precision and F-score are ill-defined and being set to 0.0 in labels with no predicted samples. Use `zero_division` parameter to control this behavior.\n",
      "  _warn_prf(average, modifier, msg_start, len(result))\n",
      "c:\\Users\\Timi\\anaconda3\\Lib\\site-packages\\sklearn\\metrics\\_classification.py:1469: UndefinedMetricWarning: Precision and F-score are ill-defined and being set to 0.0 in labels with no predicted samples. Use `zero_division` parameter to control this behavior.\n",
      "  _warn_prf(average, modifier, msg_start, len(result))\n"
     ]
    }
   ],
   "source": [
    "# Re-Select features (X) and target variable (y)\n",
    "X = Selected_features\n",
    "Y = df['Target']\n",
    "\n",
    "\n",
    "# Scaling only numerical features# Feature scaling for numerical features\n",
    "scaler = StandardScaler()\n",
    "numerical_features = df[['Old_peak', 'Max_heart_rate']]\n",
    "\n",
    "numerical_features = scaler.fit_transform(numerical_features)\n",
    "\n",
    "# Split the scaled data into training and testing sets\n",
    "X_train, X_test, y_train, y_test = train_test_split(X, y, test_size=0.2, random_state=42)\n",
    "\n",
    "# Initialize and train the SVM classifier\n",
    "svm = SVC(kernel='rbf', random_state=42)  # You can choose different kernel functions ('linear', 'rbf', 'poly', etc.)\n",
    "svm.fit(X_train, y_train)\n",
    "\n",
    "# Make predictions on the testing data\n",
    "y_pred = svm.predict(X_test)\n",
    "\n",
    "# Evaluate the performance of the model\n",
    "accuracy = accuracy_score(y_test, y_pred)\n",
    "print(\"SVM Accuracy:\", accuracy)\n",
    "print(classification_report(y_test, y_pred))"
   ]
  },
  {
   "cell_type": "code",
   "execution_count": 65,
   "metadata": {},
   "outputs": [
    {
     "name": "stdout",
     "output_type": "stream",
     "text": [
      "Best SVM Model Accuracy: 0.5555555555555556\n",
      "Best SVM Model Hyperparameters: {'C': 100, 'gamma': 'scale'}\n"
     ]
    }
   ],
   "source": [
    "from sklearn.model_selection import GridSearchCV\n",
    "\n",
    "# Define the hyperparameter grid for SVM\n",
    "param_grid_svm = {\n",
    "    'C': [0.1, 1, 10, 100],  # Regularization parameter\n",
    "    'gamma': ['scale', 'auto', 0.1, 1],  # Kernel coefficient for 'rbf' kernel\n",
    "}\n",
    "\n",
    "# Initialize the SVM classifier\n",
    "svm = SVC(kernel='rbf', random_state=42)\n",
    "\n",
    "# Perform Grid Search with cross-validation\n",
    "grid_search_svm = GridSearchCV(svm, param_grid_svm, cv=5, scoring='accuracy', n_jobs=-1)\n",
    "grid_search_svm.fit(X_train, y_train)\n",
    "\n",
    "# Get the best hyperparameters and best model\n",
    "best_params_svm = grid_search_svm.best_params_\n",
    "best_model_svm = grid_search_svm.best_estimator_\n",
    "\n",
    "# Evaluate the best model on the testing set\n",
    "svm_accuracy = best_model_svm.score(X_test, y_test)\n",
    "print(\"Best SVM Model Accuracy:\", svm_accuracy)\n",
    "print(\"Best SVM Model Hyperparameters:\", best_params_svm)\n"
   ]
  },
  {
   "cell_type": "code",
   "execution_count": null,
   "metadata": {},
   "outputs": [],
   "source": []
  }
 ],
 "metadata": {
  "kernelspec": {
   "display_name": "base",
   "language": "python",
   "name": "python3"
  },
  "language_info": {
   "codemirror_mode": {
    "name": "ipython",
    "version": 3
   },
   "file_extension": ".py",
   "mimetype": "text/x-python",
   "name": "python",
   "nbconvert_exporter": "python",
   "pygments_lexer": "ipython3",
   "version": "3.11.4"
  }
 },
 "nbformat": 4,
 "nbformat_minor": 2
}
